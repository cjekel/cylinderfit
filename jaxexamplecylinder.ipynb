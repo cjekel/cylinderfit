{
 "cells": [
  {
   "cell_type": "code",
   "execution_count": 1,
   "metadata": {},
   "outputs": [],
   "source": [
    "import numpy as np\n",
    "import matplotlib.pyplot as plt\n",
    "from mpl_toolkits.mplot3d import Axes3D\n",
    "\n",
    "n_one = 20\n",
    "noise = 1e-1*np.random.normal(size=(n_one*n_one))\n",
    "\n",
    "# generate cylindrical data\n",
    "\n",
    "x0 = 0.0\n",
    "y0 = 0.0\n",
    "z0 = 0.0\n",
    "\n",
    "r = 2.0\n",
    "\n",
    "x = np.linspace(-1, 1, 200)\n",
    "z = np.linspace(-1, 1, 200)\n",
    "y = np.sqrt(r**2 - (x**2))\n",
    "y[49:150] *= -1\n",
    "\n",
    "\n",
    "fig = plt.figure()\n",
    "ax = fig.add_subplot(111, projection='3d')\n",
    "ax.scatter(x, y, z, zdir='z', s=20, c='b',rasterized=True)\n",
    "ax.set_xlabel('x')\n",
    "ax.set_ylabel('y')\n",
    "ax.set_zlabel('z')\n",
    "plt.show()\n"
   ]
  },
  {
   "cell_type": "code",
   "execution_count": 2,
   "metadata": {},
   "outputs": [
    {
     "name": "stderr",
     "output_type": "stream",
     "text": [
      "/home/cj/anaconda3/envs/tf2.0/lib/python3.6/site-packages/jax/lib/xla_bridge.py:130: UserWarning: No GPU/TPU found, falling back to CPU.\n",
      "  warnings.warn('No GPU/TPU found, falling back to CPU.')\n"
     ]
    }
   ],
   "source": [
    "import jax.numpy as jnp\n",
    "from jax import grad, jit, vmap\n",
    "from jax import random\n",
    "from jax.config import config\n",
    "config.update('jax_enable_x64', True)\n",
    "key = random.PRNGKey(0)"
   ]
  },
  {
   "cell_type": "code",
   "execution_count": 3,
   "metadata": {},
   "outputs": [],
   "source": [
    "# Initialize random guess\n",
    "B = jnp.array([x.mean(), y.mean(), z.mean(),\n",
    "               1.0,\n",
    "               1.0,\n",
    "               1.0])\n",
    "A = jnp.array([x, y, z],).T"
   ]
  },
  {
   "cell_type": "code",
   "execution_count": 4,
   "metadata": {},
   "outputs": [
    {
     "data": {
      "text/plain": [
       "DeviceArray([ 3.55271368e-17, -8.57880695e-02,  3.55271368e-17,\n",
       "              1.00000000e+00,  1.00000000e+00,  1.00000000e+00],            dtype=float64)"
      ]
     },
     "execution_count": 4,
     "metadata": {},
     "output_type": "execute_result"
    }
   ],
   "source": [
    "B"
   ]
  },
  {
   "cell_type": "code",
   "execution_count": 5,
   "metadata": {},
   "outputs": [],
   "source": [
    "def predict(B, A):\n",
    "    # pedict r^2 for B and A\n",
    "    u = B[5]*(A[:, 1] - B[1]) - B[4]*(A[:, 2] - B[2])\n",
    "    v = B[3]*(A[:, 2] - B[2]) - B[5]*(A[:, 0] - B[0])\n",
    "    w = B[4]*(A[:, 0] - B[0]) - B[3]*(A[:, 1] - B[1])\n",
    "    r_squared = u**2 + v**2 + w**2\n",
    "    return r_squared\n"
   ]
  },
  {
   "cell_type": "code",
   "execution_count": 6,
   "metadata": {},
   "outputs": [],
   "source": [
    "t = predict(B, A)"
   ]
  },
  {
   "cell_type": "code",
   "execution_count": 7,
   "metadata": {},
   "outputs": [
    {
     "data": {
      "text/plain": [
       "DeviceArray([-0.78476578], dtype=float64)"
      ]
     },
     "execution_count": 7,
     "metadata": {},
     "output_type": "execute_result"
    }
   ],
   "source": [
    "random.normal(key, (1,))"
   ]
  },
  {
   "cell_type": "code",
   "execution_count": 8,
   "metadata": {},
   "outputs": [],
   "source": [
    "target = jnp.ones(A.shape[0])*(r**2)\n"
   ]
  },
  {
   "cell_type": "code",
   "execution_count": 9,
   "metadata": {},
   "outputs": [],
   "source": [
    "n = A.shape[0]\n",
    "\n",
    "def loss(B):\n",
    "    # compute mse\n",
    "    pred = predict(B, A)\n",
    "    e = pred - target\n",
    "    return jnp.dot(e, e) / n\n"
   ]
  },
  {
   "cell_type": "code",
   "execution_count": 10,
   "metadata": {},
   "outputs": [
    {
     "data": {
      "text/plain": [
       "DeviceArray(35.55270606, dtype=float64)"
      ]
     },
     "execution_count": 10,
     "metadata": {},
     "output_type": "execute_result"
    }
   ],
   "source": [
    "loss(B)"
   ]
  },
  {
   "cell_type": "code",
   "execution_count": 11,
   "metadata": {},
   "outputs": [
    {
     "data": {
      "text/plain": [
       "DeviceArray([ 12.63526522, -25.27053044,  12.63526522,  77.29133001,\n",
       "              50.76427531,  77.29133001], dtype=float64)"
      ]
     },
     "execution_count": 11,
     "metadata": {},
     "output_type": "execute_result"
    }
   ],
   "source": [
    "grad(loss)(B)"
   ]
  },
  {
   "cell_type": "code",
   "execution_count": 12,
   "metadata": {},
   "outputs": [],
   "source": [
    "from scipy.optimize import fmin_bfgs\n"
   ]
  },
  {
   "cell_type": "code",
   "execution_count": 13,
   "metadata": {},
   "outputs": [
    {
     "name": "stdout",
     "output_type": "stream",
     "text": [
      "Warning: Desired error not necessarily achieved due to precision loss.\n",
      "         Current function value: 0.033471\n",
      "         Iterations: 16\n",
      "         Function evaluations: 84\n",
      "         Gradient evaluations: 73\n"
     ]
    }
   ],
   "source": [
    "res = fmin_bfgs(loss, B, fprime=grad(loss), norm=2.0, args=(), gtol=1e-17, epsilon=1.4901161193847656e-08, maxiter=None, full_output=1, disp=1, retall=0, callback=None)"
   ]
  },
  {
   "cell_type": "code",
   "execution_count": 14,
   "metadata": {},
   "outputs": [
    {
     "data": {
      "text/plain": [
       "(array([-6.85959248e-01, -6.56914312e-02, -6.85959248e-01,  7.38814753e-01,\n",
       "         2.78577024e-04,  7.38814753e-01]),\n",
       " 0.033470533498233944,\n",
       " array([-8.59031350e-13,  7.59982090e-09, -2.00655231e-12, -3.32794302e-08,\n",
       "         9.70232791e-09, -3.32895617e-08]),\n",
       " array([[ 5.75114938e-01,  7.17928039e-03, -4.24886214e-01,\n",
       "         -1.00882024e-02, -1.73861453e-02, -1.00983773e-02],\n",
       "        [ 7.17928039e-03,  6.92797646e-02,  7.17792101e-03,\n",
       "         -4.46403874e-04, -4.42111814e-02, -4.58402954e-04],\n",
       "        [-4.24886214e-01,  7.17792101e-03,  5.75112633e-01,\n",
       "         -1.00878070e-02, -1.73851403e-02, -1.00979811e-02],\n",
       "        [-1.00882024e-02, -4.46403874e-04, -1.00878070e-02,\n",
       "          5.04226857e-01,  2.60678050e-04, -4.95769652e-01],\n",
       "        [-1.73861453e-02, -4.42111814e-02, -1.73851403e-02,\n",
       "          2.60678050e-04,  4.76262143e-02,  2.69547907e-04],\n",
       "        [-1.00983773e-02, -4.58402954e-04, -1.00979811e-02,\n",
       "         -4.95769652e-01,  2.69547907e-04,  5.04233845e-01]]),\n",
       " 84,\n",
       " 73,\n",
       " 2)"
      ]
     },
     "execution_count": 14,
     "metadata": {},
     "output_type": "execute_result"
    }
   ],
   "source": [
    "res"
   ]
  },
  {
   "cell_type": "code",
   "execution_count": 15,
   "metadata": {},
   "outputs": [
    {
     "data": {
      "text/plain": [
       "-0.6859592479673602"
      ]
     },
     "execution_count": 15,
     "metadata": {},
     "output_type": "execute_result"
    }
   ],
   "source": [
    "x0_hat = res[0][0]\n",
    "x0_hat"
   ]
  },
  {
   "cell_type": "code",
   "execution_count": 16,
   "metadata": {},
   "outputs": [
    {
     "data": {
      "text/plain": [
       "-0.06569143119842225"
      ]
     },
     "execution_count": 16,
     "metadata": {},
     "output_type": "execute_result"
    }
   ],
   "source": [
    "y0_hat = res[0][1]\n",
    "y0_hat"
   ]
  },
  {
   "cell_type": "code",
   "execution_count": 17,
   "metadata": {},
   "outputs": [
    {
     "data": {
      "text/plain": [
       "-0.6859592479624994"
      ]
     },
     "execution_count": 17,
     "metadata": {},
     "output_type": "execute_result"
    }
   ],
   "source": [
    "z0_hat = res[0][2]\n",
    "z0_hat"
   ]
  },
  {
   "cell_type": "code",
   "execution_count": 18,
   "metadata": {},
   "outputs": [
    {
     "data": {
      "text/plain": [
       "0.7388147534199707"
      ]
     },
     "execution_count": 18,
     "metadata": {},
     "output_type": "execute_result"
    }
   ],
   "source": [
    "a_hat = res[0][3]\n",
    "a_hat"
   ]
  },
  {
   "cell_type": "code",
   "execution_count": 19,
   "metadata": {},
   "outputs": [
    {
     "data": {
      "text/plain": [
       "0.00027857702404679934"
      ]
     },
     "execution_count": 19,
     "metadata": {},
     "output_type": "execute_result"
    }
   ],
   "source": [
    "b_hat = res[0][4]\n",
    "b_hat"
   ]
  },
  {
   "cell_type": "code",
   "execution_count": 20,
   "metadata": {},
   "outputs": [
    {
     "data": {
      "text/plain": [
       "0.7388147534546972"
      ]
     },
     "execution_count": 20,
     "metadata": {},
     "output_type": "execute_result"
    }
   ],
   "source": [
    "c_hat = res[0][5]\n",
    "c_hat"
   ]
  }
 ],
 "metadata": {
  "kernelspec": {
   "display_name": "Python 3",
   "language": "python",
   "name": "python3"
  },
  "language_info": {
   "codemirror_mode": {
    "name": "ipython",
    "version": 3
   },
   "file_extension": ".py",
   "mimetype": "text/x-python",
   "name": "python",
   "nbconvert_exporter": "python",
   "pygments_lexer": "ipython3",
   "version": "3.6.10"
  }
 },
 "nbformat": 4,
 "nbformat_minor": 4
}
